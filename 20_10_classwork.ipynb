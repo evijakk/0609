{
 "cells": [
  {
   "cell_type": "code",
   "execution_count": 15,
   "metadata": {},
   "outputs": [],
   "source": [
    "import pandas as pd\n",
    "from bs4 import BeautifulSoup"
   ]
  },
  {
   "cell_type": "code",
   "execution_count": 16,
   "metadata": {},
   "outputs": [],
   "source": [
    "url = \"https://www.ss.com/lv/transport/cars/electric-cars/sell/filter/riga_f/.html\"\n",
    "url2 = \"https://www.ss.com/lv/real-estate/homes-summer-residences/jurmala/hand_over/riga_f/fDgSeF4belM=.html\""
   ]
  },
  {
   "cell_type": "code",
   "execution_count": 17,
   "metadata": {},
   "outputs": [
    {
     "data": {
      "text/html": [
       "<div>\n",
       "<style scoped>\n",
       "    .dataframe tbody tr th:only-of-type {\n",
       "        vertical-align: middle;\n",
       "    }\n",
       "\n",
       "    .dataframe tbody tr th {\n",
       "        vertical-align: top;\n",
       "    }\n",
       "\n",
       "    .dataframe thead th {\n",
       "        text-align: right;\n",
       "    }\n",
       "</style>\n",
       "<table border=\"1\" class=\"dataframe\">\n",
       "  <thead>\n",
       "    <tr style=\"text-align: right;\">\n",
       "      <th></th>\n",
       "      <th>Vieglie auto / Elektromobīļi / PārdodVisi sludinājumiŠodien - 12Par 2 dienām - 48Par 5 dienām - 72  Cena: - Marka:  Modelis:  Gads: 20222021202020192018201720162015201420132012201120102008-20222021202020192018201720162015201420132012201120102008 Nobrauk.: - Režīms:  Saraksts  Albums  Rajons: Visi sludinājumiload_regions( ); Darījuma veids: VisiPārdodPērkMainaDažādiNoma  Sludinājumi - Rīga \\tdatums MarkaGadsNobrauk.CenaLexus UX 150kW/204zs 2021.gada, Pvn iekļauts cenā. Pierādāms un pārbaudīts nLexus Ux202119 tūkst.49,990 € Nissan Leaf Conect , 40kwh ar Elektrodzinēju un Automātisko ātrumkārbu- 150 Z/s.Nissan Leaf202028 tūkst.27,890 € Škoda Enyaq 80, 150kw, Automāts. Pārdod privātpersona, iespējams pārņemt eksi atSkoda Enyaq202214 tūkst.62,900 € Auto ar mazu nobraukumu. Navigācija, atpakaļskata kamera, sēdekļu apsilde, stūreNissan Leaf201147 tūkst.9,990 € Masina Riga BMW i3 94Ah 125Kw Mineralgrau Metallic/neutronic Grau, 19' Turbo disBmw I3201928 tūkst.26,250 € Automašīna ar pārbaudītu vēsturi. Jaguar I-Pace Ev400 Awd. Automašīna piJaguar I-Pace202013 tūkst.69,900 € Volkswagen e-Golf ar Elektrodzinēju un Automātisko ātrumkārbu- 115 Z/s. NobraucaVolkswagen E-Golf201544 tūkst.22,990 € VW Id4 Gtx 4X4 (300 zs) ar automātisko pārnesumkārbu. Cena ar Pvn. AutomašīnVolkswagen Id. 4 gtx202222 tūkst.58,950 € Renault Zoe E-Tech electric Intens R135, 52 kWh, 100 kW, 06.2020. Cenā iekļauts Renault Zoe202061 tūkst.24,590 € Cena ar Pvn, I3, 75kw, Vācijā pirkts jauns, 100tk. km orig. nobraukums, automātsBmw I32014-16,990 € Pārdod Jaguar I-Pace Ev400 Awd First Edition. Jauns iegādāts Latvijā. Cena ar PvJaguar I-Pace201994 tūkst.55,000 € Mazs nobraukums. Klimatkontrole, parkošanās sensori, stereo, multistūre, kruīzkoNissan Leaf201396 tūkst.9,990 € Только пригнан и Норвегии и в Латвии абсолютно не эксплуатировался / оригинальныNissan Leaf201396 tūkst.8,750 € Продаю Nissan leaf elektro. Отличный, современный автомобиль в очень хорошей комNissan Leaf201782 tūkst.15,650 € Продаю Nissan leaf elektro. Отличный, современный автомобиль в очень хорошей комNissan Leaf201782 tūkst.15,650 € BMW I3 S eDrive 94 Ah Automatic, 135 kw - 184 zs Automašīna ar oriģinālu, pārbBmw I3201928 tūkst.28,880 € BMW i3, 120ah, 42 Kwh, 125 kW (170 Hp). Privātpersonai iespējams iegūt valstBMW I3201931 tūkst.32,900 € BMW i3, 120ah, 42 Kwh, 125 kW (170 Hp). Privātpersonai iespējams iegūt valstBmw I3201931 tūkst.32,900 € BMW I3 eDrive 94 Ah Automatic, 125 kw - 170 zs Krāsa- Capparis-Weiss/bmw I blaBmw I3201743 tūkst.24,900 € Rīgā uz vietas pieejams jauns Renault Zoe Iconic R135 E. V. 50 ar 100Kw jaudu. SRenault Zoe20221742,060 € Uzreiz. Model Y, ar Pvn, no firmas, atlikums 59500. Autopilots. Eiropas modelis.Tesla Model Y Lr 4x4202218 tūkst.69,700 € Tesla Model Y Long Range. Pilnīgi jauns. Ar Pvn. Eiropas modelis. Garantija 8 gaTesla Model Y20225072,555 € Tesla Model Y Long Range. Pilnīgi jauns. Ar Pvn. Long Range Awd. Eiropas modelisTesla Model Y L. R20225073,690 € I3S, 120ah, 42.2 Kwh, 2019.g. , ar Pvn 21%, pusādas salons. Jūs varat apskatBmw I3201949 tūkst.29,900 € BMW iX, 4x4, āķis, kamera 360, multisēdekļi, Harman/kardon, adaptīva kruīze, josBMW IX20228 tūkst.88,350 € Pvn; Servisa vēsture; Garantija; Adaptīvā kruīzkontrole; Lcd; Parkošanās sensoriVolkswagen Another202152 tūkst.51,990 € Pvn; Servisa vēsture; Garantija; Adaptīvā kruīzkontrole; Lcd; Parkošanās sensoriVolkswagen Id4202152 tūkst.51,990 € Bmw iX , xDrive, Soft close , Led Automašīnas Priekšocības: Pārskatāms unBmw Another20215.7 tūkst.85,900 € Volvo Xc40 Awd Recharge Pro, P8 408zs elektromotors, At1 Awd- pilnpiedziņa. Volvo Xc 40202118 tūkst.59,490 € Nevainojams tehniskais un vizuālais stāvoklīs. Auto no Norvēģijas, viens saimnieMb Mb250Ed201570 tūkst.19,200 €  Iepriekšējie 1 2 3 4 5 6 Nākamie Parādīt izvēlētos sludinājumus Salīdzināt izvēlētos sludinājumus</th>\n",
       "    </tr>\n",
       "  </thead>\n",
       "  <tbody>\n",
       "  </tbody>\n",
       "</table>\n",
       "</div>"
      ],
      "text/plain": [
       "Empty DataFrame\n",
       "Columns: [Vieglie auto / Elektromobīļi / PārdodVisi sludinājumiŠodien - 12Par 2 dienām - 48Par 5 dienām - 72  Cena: - Marka:  Modelis:  Gads: 20222021202020192018201720162015201420132012201120102008-20222021202020192018201720162015201420132012201120102008 Nobrauk.: - Režīms:  Saraksts  Albums  Rajons: Visi sludinājumiload_regions( ); Darījuma veids: VisiPārdodPērkMainaDažādiNoma  Sludinājumi - Rīga \tdatums MarkaGadsNobrauk.CenaLexus UX 150kW/204zs 2021.gada, Pvn iekļauts cenā. Pierādāms un pārbaudīts nLexus Ux202119 tūkst.49,990 € Nissan Leaf Conect , 40kwh ar Elektrodzinēju un Automātisko ātrumkārbu- 150 Z/s.Nissan Leaf202028 tūkst.27,890 € Škoda Enyaq 80, 150kw, Automāts. Pārdod privātpersona, iespējams pārņemt eksi atSkoda Enyaq202214 tūkst.62,900 € Auto ar mazu nobraukumu. Navigācija, atpakaļskata kamera, sēdekļu apsilde, stūreNissan Leaf201147 tūkst.9,990 € Masina Riga BMW i3 94Ah 125Kw Mineralgrau Metallic/neutronic Grau, 19' Turbo disBmw I3201928 tūkst.26,250 € Automašīna ar pārbaudītu vēsturi. Jaguar I-Pace Ev400 Awd. Automašīna piJaguar I-Pace202013 tūkst.69,900 € Volkswagen e-Golf ar Elektrodzinēju un Automātisko ātrumkārbu- 115 Z/s. NobraucaVolkswagen E-Golf201544 tūkst.22,990 € VW Id4 Gtx 4X4 (300 zs) ar automātisko pārnesumkārbu. Cena ar Pvn. AutomašīnVolkswagen Id. 4 gtx202222 tūkst.58,950 € Renault Zoe E-Tech electric Intens R135, 52 kWh, 100 kW, 06.2020. Cenā iekļauts Renault Zoe202061 tūkst.24,590 € Cena ar Pvn, I3, 75kw, Vācijā pirkts jauns, 100tk. km orig. nobraukums, automātsBmw I32014-16,990 € Pārdod Jaguar I-Pace Ev400 Awd First Edition. Jauns iegādāts Latvijā. Cena ar PvJaguar I-Pace201994 tūkst.55,000 € Mazs nobraukums. Klimatkontrole, parkošanās sensori, stereo, multistūre, kruīzkoNissan Leaf201396 tūkst.9,990 € Только пригнан и Норвегии и в Латвии абсолютно не эксплуатировался / оригинальныNissan Leaf201396 tūkst.8,750 € Продаю Nissan leaf elektro. Отличный, современный автомобиль в очень хорошей комNissan Leaf201782 tūkst.15,650 € Продаю Nissan leaf elektro. Отличный, современный автомобиль в очень хорошей комNissan Leaf201782 tūkst.15,650 € BMW I3 S eDrive 94 Ah Automatic, 135 kw - 184 zs Automašīna ar oriģinālu, pārbBmw I3201928 tūkst.28,880 € BMW i3, 120ah, 42 Kwh, 125 kW (170 Hp). Privātpersonai iespējams iegūt valstBMW I3201931 tūkst.32,900 € BMW i3, 120ah, 42 Kwh, 125 kW (170 Hp). Privātpersonai iespējams iegūt valstBmw I3201931 tūkst.32,900 € BMW I3 eDrive 94 Ah Automatic, 125 kw - 170 zs Krāsa- Capparis-Weiss/bmw I blaBmw I3201743 tūkst.24,900 € Rīgā uz vietas pieejams jauns Renault Zoe Iconic R135 E. V. 50 ar 100Kw jaudu. SRenault Zoe20221742,060 € Uzreiz. Model Y, ar Pvn, no firmas, atlikums 59500. Autopilots. Eiropas modelis.Tesla Model Y Lr 4x4202218 tūkst.69,700 € Tesla Model Y Long Range. Pilnīgi jauns. Ar Pvn. Eiropas modelis. Garantija 8 gaTesla Model Y20225072,555 € Tesla Model Y Long Range. Pilnīgi jauns. Ar Pvn. Long Range Awd. Eiropas modelisTesla Model Y L. R20225073,690 € I3S, 120ah, 42.2 Kwh, 2019.g. , ar Pvn 21%, pusādas salons. Jūs varat apskatBmw I3201949 tūkst.29,900 € BMW iX, 4x4, āķis, kamera 360, multisēdekļi, Harman/kardon, adaptīva kruīze, josBMW IX20228 tūkst.88,350 € Pvn; Servisa vēsture; Garantija; Adaptīvā kruīzkontrole; Lcd; Parkošanās sensoriVolkswagen Another202152 tūkst.51,990 € Pvn; Servisa vēsture; Garantija; Adaptīvā kruīzkontrole; Lcd; Parkošanās sensoriVolkswagen Id4202152 tūkst.51,990 € Bmw iX , xDrive, Soft close , Led Automašīnas Priekšocības: Pārskatāms unBmw Another20215.7 tūkst.85,900 € Volvo Xc40 Awd Recharge Pro, P8 408zs elektromotors, At1 Awd- pilnpiedziņa. Volvo Xc 40202118 tūkst.59,490 € Nevainojams tehniskais un vizuālais stāvoklīs. Auto no Norvēģijas, viens saimnieMb Mb250Ed201570 tūkst.19,200 €  Iepriekšējie 1 2 3 4 5 6 Nākamie Parādīt izvēlētos sludinājumus Salīdzināt izvēlētos sludinājumus]\n",
       "Index: []"
      ]
     },
     "execution_count": 17,
     "metadata": {},
     "output_type": "execute_result"
    }
   ],
   "source": [
    "#dflist = pd.read_html(url2, header=0)\n",
    "#dflist[1].head()\n",
    "#dfs[1].head(10)\n",
    "dfs = pd.read_html(url, header=0)\n",
    "df = dfs[2]\n",
    "df.head()\n",
    "dfs[1].head(10)"
   ]
  }
 ],
 "metadata": {
  "kernelspec": {
   "display_name": "Python 3.10.7 64-bit",
   "language": "python",
   "name": "python3"
  },
  "language_info": {
   "codemirror_mode": {
    "name": "ipython",
    "version": 3
   },
   "file_extension": ".py",
   "mimetype": "text/x-python",
   "name": "python",
   "nbconvert_exporter": "python",
   "pygments_lexer": "ipython3",
   "version": "3.10.7"
  },
  "orig_nbformat": 4,
  "vscode": {
   "interpreter": {
    "hash": "3fefcfee9cc37cd3003a6be18e65c09550a420c58d0e69df967a0de2473ada3d"
   }
  }
 },
 "nbformat": 4,
 "nbformat_minor": 2
}
