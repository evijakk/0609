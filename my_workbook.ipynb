{
 "cells": [
  {
   "cell_type": "markdown",
   "id": "770a499f-fa07-4ca0-8ddd-c50e76eb0599",
   "metadata": {
    "tags": []
   },
   "source": [
    "# Workbook\n",
    "\n",
    "Use this notebook to complete the exercises throughout the workshop.\n",
    "\n",
    "#### Table of Contents\n",
    "- [Section 1 &ndash; Getting Started with Pandas](#Section-1)\n",
    "- [Section 2 &ndash; Data Wrangling](#Section-2)\n",
    "- [Section 3 &ndash; Data Visualization](#Section-3)\n",
    "\n",
    "--- \n",
    "\n",
    "### Section 1\n",
    "\n",
    "#### Exercise 1.1\n",
    "##### Create a DataFrame by reading in the `2019_Yellow_Taxi_Trip_Data.csv` file. Examine the first 5 rows."
   ]
  },
  {
   "cell_type": "code",
   "execution_count": 3,
   "id": "aa449dc1-4c0b-47ce-bba7-061568590d97",
   "metadata": {},
   "outputs": [
    {
     "name": "stdout",
     "output_type": "stream",
     "text": [
      "   vendorid     tpep_pickup_datetime    tpep_dropoff_datetime  \\\n",
      "0         2  2019-10-23T16:39:42.000  2019-10-23T17:14:10.000   \n",
      "1         1  2019-10-23T16:32:08.000  2019-10-23T16:45:26.000   \n",
      "2         2  2019-10-23T16:08:44.000  2019-10-23T16:21:11.000   \n",
      "3         2  2019-10-23T16:22:44.000  2019-10-23T16:43:26.000   \n",
      "4         2  2019-10-23T16:45:11.000  2019-10-23T16:58:49.000   \n",
      "\n",
      "   passenger_count  trip_distance  ratecodeid store_and_fwd_flag  \\\n",
      "0                1           7.93           1                  N   \n",
      "1                1           2.00           1                  N   \n",
      "2                1           1.36           1                  N   \n",
      "3                1           1.00           1                  N   \n",
      "4                1           1.96           1                  N   \n",
      "\n",
      "   pulocationid  dolocationid  payment_type  fare_amount  extra  mta_tax  \\\n",
      "0           138           170             1         29.5    1.0      0.5   \n",
      "1            11            26             1         10.5    1.0      0.5   \n",
      "2           163           162             1          9.5    1.0      0.5   \n",
      "3           170           163             1         13.0    1.0      0.5   \n",
      "4           163           236             1         10.5    1.0      0.5   \n",
      "\n",
      "   tip_amount  tolls_amount  improvement_surcharge  total_amount  \\\n",
      "0        7.98          6.12                    0.3         47.90   \n",
      "1        0.00          0.00                    0.3         12.30   \n",
      "2        2.00          0.00                    0.3         15.80   \n",
      "3        4.32          0.00                    0.3         21.62   \n",
      "4        0.50          0.00                    0.3         15.30   \n",
      "\n",
      "   congestion_surcharge  \n",
      "0                   2.5  \n",
      "1                   0.0  \n",
      "2                   2.5  \n",
      "3                   2.5  \n",
      "4                   2.5  \n"
     ]
    }
   ],
   "source": [
    "import pandas as pd\n",
    "df = pd.read_csv(\"2019_Yellow_Taxi_Trip_Data.csv\")\n",
    "df1 = df.head(5)\n",
    "print(df1)"
   ]
  },
  {
   "cell_type": "markdown",
   "id": "4d52808c-cb6b-4a2b-a183-5c886bbe6b85",
   "metadata": {},
   "source": [
    "#### Exercise 1.2\n",
    "##### Find the dimensions (number of rows and number of columns) in the data."
   ]
  },
  {
   "cell_type": "code",
   "execution_count": 7,
   "id": "f4e7275f-4009-4cc9-911d-da92efb79fdd",
   "metadata": {},
   "outputs": [
    {
     "name": "stdout",
     "output_type": "stream",
     "text": [
      "There are  180000 rows\n",
      "There are  10000 columns\n"
     ]
    }
   ],
   "source": [
    "size = df.size\n",
    "print(\"There are \", size, \"rows\")\n",
    "colnum = len(df.index)\n",
    "print(\"There are \", colnum, \"columns\")"
   ]
  },
  {
   "cell_type": "markdown",
   "id": "b4e9aa37-a244-4e4c-8caa-9d13ca8c7f71",
   "metadata": {
    "tags": []
   },
   "source": [
    "#### Exercise 1.3\n",
    "##### Using the data in the `2019_Yellow_Taxi_Trip_Data.csv` file, calculate summary statistics for the `fare_amount`, `tip_amount`, `tolls_amount`, and `total_amount` columns."
   ]
  },
  {
   "cell_type": "code",
   "execution_count": 15,
   "id": "8577fc58-fd5f-412b-aa2e-50c541c5778b",
   "metadata": {},
   "outputs": [
    {
     "ename": "KeyError",
     "evalue": "('fare_amount', 'tip_amount', 'tolls_amount', 'total_amount')",
     "output_type": "error",
     "traceback": [
      "\u001b[1;31m---------------------------------------------------------------------------\u001b[0m",
      "\u001b[1;31mKeyError\u001b[0m                                  Traceback (most recent call last)",
      "File \u001b[1;32mc:\\Users\\Latefekts\\AppData\\Local\\Programs\\Python\\Python310\\lib\\site-packages\\pandas\\core\\indexes\\base.py:3800\u001b[0m, in \u001b[0;36mIndex.get_loc\u001b[1;34m(self, key, method, tolerance)\u001b[0m\n\u001b[0;32m   3799\u001b[0m \u001b[39mtry\u001b[39;00m:\n\u001b[1;32m-> 3800\u001b[0m     \u001b[39mreturn\u001b[39;00m \u001b[39mself\u001b[39;49m\u001b[39m.\u001b[39;49m_engine\u001b[39m.\u001b[39;49mget_loc(casted_key)\n\u001b[0;32m   3801\u001b[0m \u001b[39mexcept\u001b[39;00m \u001b[39mKeyError\u001b[39;00m \u001b[39mas\u001b[39;00m err:\n",
      "File \u001b[1;32mc:\\Users\\Latefekts\\AppData\\Local\\Programs\\Python\\Python310\\lib\\site-packages\\pandas\\_libs\\index.pyx:138\u001b[0m, in \u001b[0;36mpandas._libs.index.IndexEngine.get_loc\u001b[1;34m()\u001b[0m\n",
      "File \u001b[1;32mc:\\Users\\Latefekts\\AppData\\Local\\Programs\\Python\\Python310\\lib\\site-packages\\pandas\\_libs\\index.pyx:165\u001b[0m, in \u001b[0;36mpandas._libs.index.IndexEngine.get_loc\u001b[1;34m()\u001b[0m\n",
      "File \u001b[1;32mpandas\\_libs\\hashtable_class_helper.pxi:5745\u001b[0m, in \u001b[0;36mpandas._libs.hashtable.PyObjectHashTable.get_item\u001b[1;34m()\u001b[0m\n",
      "File \u001b[1;32mpandas\\_libs\\hashtable_class_helper.pxi:5753\u001b[0m, in \u001b[0;36mpandas._libs.hashtable.PyObjectHashTable.get_item\u001b[1;34m()\u001b[0m\n",
      "\u001b[1;31mKeyError\u001b[0m: ('fare_amount', 'tip_amount', 'tolls_amount', 'total_amount')",
      "\nThe above exception was the direct cause of the following exception:\n",
      "\u001b[1;31mKeyError\u001b[0m                                  Traceback (most recent call last)",
      "Cell \u001b[1;32mIn [15], line 1\u001b[0m\n\u001b[1;32m----> 1\u001b[0m df[\u001b[39m'\u001b[39;49m\u001b[39mfare_amount\u001b[39;49m\u001b[39m'\u001b[39;49m, \u001b[39m'\u001b[39;49m\u001b[39mtip_amount\u001b[39;49m\u001b[39m'\u001b[39;49m, \u001b[39m'\u001b[39;49m\u001b[39mtolls_amount\u001b[39;49m\u001b[39m'\u001b[39;49m, \u001b[39m'\u001b[39;49m\u001b[39mtotal_amount\u001b[39;49m\u001b[39m'\u001b[39;49m]\u001b[39m.\u001b[39mdescribe\n",
      "File \u001b[1;32mc:\\Users\\Latefekts\\AppData\\Local\\Programs\\Python\\Python310\\lib\\site-packages\\pandas\\core\\frame.py:3805\u001b[0m, in \u001b[0;36mDataFrame.__getitem__\u001b[1;34m(self, key)\u001b[0m\n\u001b[0;32m   3803\u001b[0m \u001b[39mif\u001b[39;00m \u001b[39mself\u001b[39m\u001b[39m.\u001b[39mcolumns\u001b[39m.\u001b[39mnlevels \u001b[39m>\u001b[39m \u001b[39m1\u001b[39m:\n\u001b[0;32m   3804\u001b[0m     \u001b[39mreturn\u001b[39;00m \u001b[39mself\u001b[39m\u001b[39m.\u001b[39m_getitem_multilevel(key)\n\u001b[1;32m-> 3805\u001b[0m indexer \u001b[39m=\u001b[39m \u001b[39mself\u001b[39;49m\u001b[39m.\u001b[39;49mcolumns\u001b[39m.\u001b[39;49mget_loc(key)\n\u001b[0;32m   3806\u001b[0m \u001b[39mif\u001b[39;00m is_integer(indexer):\n\u001b[0;32m   3807\u001b[0m     indexer \u001b[39m=\u001b[39m [indexer]\n",
      "File \u001b[1;32mc:\\Users\\Latefekts\\AppData\\Local\\Programs\\Python\\Python310\\lib\\site-packages\\pandas\\core\\indexes\\base.py:3802\u001b[0m, in \u001b[0;36mIndex.get_loc\u001b[1;34m(self, key, method, tolerance)\u001b[0m\n\u001b[0;32m   3800\u001b[0m     \u001b[39mreturn\u001b[39;00m \u001b[39mself\u001b[39m\u001b[39m.\u001b[39m_engine\u001b[39m.\u001b[39mget_loc(casted_key)\n\u001b[0;32m   3801\u001b[0m \u001b[39mexcept\u001b[39;00m \u001b[39mKeyError\u001b[39;00m \u001b[39mas\u001b[39;00m err:\n\u001b[1;32m-> 3802\u001b[0m     \u001b[39mraise\u001b[39;00m \u001b[39mKeyError\u001b[39;00m(key) \u001b[39mfrom\u001b[39;00m \u001b[39merr\u001b[39;00m\n\u001b[0;32m   3803\u001b[0m \u001b[39mexcept\u001b[39;00m \u001b[39mTypeError\u001b[39;00m:\n\u001b[0;32m   3804\u001b[0m     \u001b[39m# If we have a listlike key, _check_indexing_error will raise\u001b[39;00m\n\u001b[0;32m   3805\u001b[0m     \u001b[39m#  InvalidIndexError. Otherwise we fall through and re-raise\u001b[39;00m\n\u001b[0;32m   3806\u001b[0m     \u001b[39m#  the TypeError.\u001b[39;00m\n\u001b[0;32m   3807\u001b[0m     \u001b[39mself\u001b[39m\u001b[39m.\u001b[39m_check_indexing_error(key)\n",
      "\u001b[1;31mKeyError\u001b[0m: ('fare_amount', 'tip_amount', 'tolls_amount', 'total_amount')"
     ]
    }
   ],
   "source": [
    "df['fare_amount', 'tip_amount', 'tolls_amount', 'total_amount'].describe"
   ]
  },
  {
   "cell_type": "markdown",
   "id": "4fbf547b-a273-4327-b17a-2c10a58b96bc",
   "metadata": {
    "tags": []
   },
   "source": [
    "#### Exercise 1.4\n",
    "##### Isolate the `fare_amount`, `tip_amount`, `tolls_amount`, and `total_amount` for the longest trip by distance (`trip_distance`)."
   ]
  },
  {
   "cell_type": "code",
   "execution_count": 24,
   "id": "dc75ecfc-19b5-438b-b078-eaf7cfc3e7f3",
   "metadata": {},
   "outputs": [
    {
     "ename": "NameError",
     "evalue": "name 'fare_amount' is not defined",
     "output_type": "error",
     "traceback": [
      "\u001b[1;31m---------------------------------------------------------------------------\u001b[0m",
      "\u001b[1;31mNameError\u001b[0m                                 Traceback (most recent call last)",
      "Cell \u001b[1;32mIn [24], line 2\u001b[0m\n\u001b[0;32m      1\u001b[0m df[\u001b[39m'\u001b[39m\u001b[39mtrip_distance\u001b[39m\u001b[39m'\u001b[39m]\u001b[39m.\u001b[39mmax()\n\u001b[1;32m----> 2\u001b[0m df[[fare_amount, tip_amount, tolls_amount, total_amount]]\u001b[39m.\u001b[39mloc[df[\u001b[39m'\u001b[39m\u001b[39mtrip_distance\u001b[39m\u001b[39m'\u001b[39m]\u001b[39m.\u001b[39midxmax()]\n",
      "\u001b[1;31mNameError\u001b[0m: name 'fare_amount' is not defined"
     ]
    }
   ],
   "source": [
    "df['trip_distance'].max()\n",
    "df[[`fare_amount`, `tip_amount`, `tolls_amount`, `total_amount`]].loc[df['trip_distance'].idxmax()]"
   ]
  },
  {
   "cell_type": "markdown",
   "id": "b9aaeed4-127a-412b-93f6-b179e4ba85f0",
   "metadata": {},
   "source": [
    "---\n",
    "\n",
    "### Section 2\n",
    "\n",
    "#### Exercise 2.1\n",
    "##### Read in the meteorite data from the `Meteorite_Landings.csv` file, rename the `mass (g)` column to `mass`, and drop all the latitude and longitude columns. Sort the result by mass in descending order."
   ]
  },
  {
   "cell_type": "code",
   "execution_count": null,
   "id": "ada49a08-cda7-42ee-ade9-8bb2a2c5a9b8",
   "metadata": {},
   "outputs": [],
   "source": []
  },
  {
   "cell_type": "markdown",
   "id": "6994b42d-8205-4584-84a0-b3a7fa56c9b1",
   "metadata": {},
   "source": [
    "#### Exercise 2.2\n",
    "##### Using the meteorite data from the `Meteorite_Landings.csv` file, update the `year` column to only contain the year, convert it to a numeric data type, and create a new column indicating whether the meteorite was observed falling before 1970. Set the index to the `id` column and extract all the rows with IDs between 10,036 and 10,040 (inclusive) with `loc[]`.\n",
    "\n",
    "###### **Hint 1**: Use `year.str.slice()` to grab a substring.\n",
    "\n",
    "###### **Hint 2**: Make sure to sort the index before using `loc[]` to select the range.\n",
    "\n",
    "###### **Bonus**: There's a data entry error in the `year` column. Can you find it? (Don't spend too much time on this.)"
   ]
  },
  {
   "cell_type": "code",
   "execution_count": null,
   "id": "02605233-73c5-4cd9-8134-b38ab749e8df",
   "metadata": {},
   "outputs": [],
   "source": []
  },
  {
   "cell_type": "markdown",
   "id": "16d1f8ab-ad56-412d-8df7-a59252f282cf",
   "metadata": {},
   "source": [
    "#### Exercise 2.3\n",
    "##### Using the meteorite data from the `Meteorite_Landings.csv` file, create a pivot table that shows both the number of meteorites and the 95th percentile of meteorite mass for those that were found versus observed falling per year from 2005 through 2009 (inclusive). Hint: Be sure to convert the `year` column to a number as we did in the previous exercise."
   ]
  },
  {
   "cell_type": "code",
   "execution_count": null,
   "id": "511433c4-5a9d-41a4-8050-0e953225da0e",
   "metadata": {},
   "outputs": [],
   "source": []
  },
  {
   "cell_type": "markdown",
   "id": "4243c25b-6b5d-4fec-a818-3766be46c7a1",
   "metadata": {},
   "source": [
    "#### Exercise 2.4\n",
    "##### Using the meteorite data from the `Meteorite_Landings.csv` file, compare summary statistics of the mass column for the meteorites that were found versus observed falling."
   ]
  },
  {
   "cell_type": "code",
   "execution_count": null,
   "id": "79aebbf8-1935-449f-94d8-aea0e1b67b4b",
   "metadata": {},
   "outputs": [],
   "source": []
  },
  {
   "cell_type": "markdown",
   "id": "9fb76130-c968-4d24-bf11-3337f846a621",
   "metadata": {},
   "source": [
    "#### Exercise 2.5\n",
    "##### Using the taxi trip data in the `2019_Yellow_Taxi_Trip_Data.csv` file, resample the data to an hourly frequency based on the dropoff time. Calculate the total `trip_distance`, `fare_amount`, `tolls_amount`, and `tip_amount`, then find the 5 hours with the most tips."
   ]
  },
  {
   "cell_type": "code",
   "execution_count": null,
   "id": "1f5423f5-c685-4bb2-ac01-8d334d26f341",
   "metadata": {},
   "outputs": [],
   "source": []
  },
  {
   "cell_type": "markdown",
   "id": "b878c7da-bd82-4e95-9302-e68d67b56f31",
   "metadata": {},
   "source": [
    "--- \n",
    "\n",
    "### Section 3\n",
    "\n",
    "#### Exercise 3.1\n",
    "##### Using the TSA traveler throughput data in the `tsa_melted_holiday_travel.csv` file, create box plots for traveler throughput for each year in the data. Hint: Pass `kind='box'` into the `plot()` method to generate box plots."
   ]
  },
  {
   "cell_type": "code",
   "execution_count": null,
   "id": "0d275b26-c701-4c32-b480-8a4b0119f830",
   "metadata": {},
   "outputs": [],
   "source": []
  },
  {
   "cell_type": "markdown",
   "id": "6bdaffc7-b865-41cd-bd6a-fb02576ce814",
   "metadata": {},
   "source": [
    "#### Exercise 3.2\n",
    "##### Using the TSA traveler throughput data in the `tsa_melted_holiday_travel.csv` file, create a heatmap that shows the 2019 TSA median traveler throughput by day of week and month."
   ]
  },
  {
   "cell_type": "code",
   "execution_count": null,
   "id": "9afe6aa8-9078-4dd8-98bb-7f68976f97a5",
   "metadata": {},
   "outputs": [],
   "source": []
  },
  {
   "cell_type": "markdown",
   "id": "81436a29-c7ca-40a3-b1c5-7a1947709bd3",
   "metadata": {},
   "source": [
    "#### Exercise 3.3\n",
    "##### Annotate the medians in the box plot from *[Exercise 3.1](#Exercise-3.1)*. Hint: The `x` coordinates will be 1, 2, and 3 for 2019, 2020, and 2021, respectively. Alternatively, to avoid hardcoding values, you can use the `Axes.get_xticklabels()` method, in which case you should look at the [documentation](https://matplotlib.org/stable/api/text_api.html) for the `Text` class."
   ]
  },
  {
   "cell_type": "code",
   "execution_count": null,
   "id": "b0d32c60-fd9f-4b35-a6ec-de1489951e16",
   "metadata": {},
   "outputs": [],
   "source": []
  }
 ],
 "metadata": {
  "kernelspec": {
   "display_name": "Python 3.10.7 ('venv': venv)",
   "language": "python",
   "name": "python3"
  },
  "language_info": {
   "codemirror_mode": {
    "name": "ipython",
    "version": 3
   },
   "file_extension": ".py",
   "mimetype": "text/x-python",
   "name": "python",
   "nbconvert_exporter": "python",
   "pygments_lexer": "ipython3",
   "version": "3.10.7"
  },
  "vscode": {
   "interpreter": {
    "hash": "54a8e307a3c1022a8640d9337667efc044a7f904c763502cbf37d0efbb9080ef"
   }
  }
 },
 "nbformat": 4,
 "nbformat_minor": 5
}
